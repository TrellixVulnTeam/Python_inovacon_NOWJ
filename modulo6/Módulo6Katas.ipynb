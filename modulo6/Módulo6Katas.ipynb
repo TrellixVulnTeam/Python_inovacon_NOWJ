{
 "cells": [
  {
   "cell_type": "code",
   "execution_count": 4,
   "metadata": {},
   "outputs": [
    {
     "name": "stdout",
     "output_type": "stream",
     "text": [
      "Los Planetas son : 8\n",
      "Pluton Este es el  Ultimo planeta\n"
     ]
    }
   ],
   "source": [
    "\n",
    "planets = ['Mercury', 'Venus', 'Earth', 'Mars', 'Jupiter', 'Saturn', 'Uranus', 'Neptune']\n",
    "\n",
    "print('Los Planetas son :', len(planets))\n",
    "\n",
    "planets.append('Pluton')\n",
    "print (planets[-1], 'Este es el  Ultimo planeta')\n"
   ]
  },
  {
   "cell_type": "code",
   "execution_count": 7,
   "metadata": {},
   "outputs": [
    {
     "name": "stdout",
     "output_type": "stream",
     "text": [
      "Aqui estan los planetas mas cerca que :Jupiter\n",
      "['Mercury', 'Venus', 'Earth', 'Mars']\n",
      "Aqui estan los planetas mas  lejos que : Jupiter\n",
      "['Saturn', 'Neptune']\n"
     ]
    }
   ],
   "source": [
    "planets = ['Mercury', 'Venus', 'Earth', 'Mars', 'Jupiter', 'Saturn', 'Neptune']\n",
    "\n",
    "user_planet = input('Ingrese el Nombre de Planeta,Empezando con una  Letra Mayuscula')\n",
    "\n",
    "planet_index = planets.index(user_planet)\n",
    "\n",
    "\n",
    "print('Aqui estan los planetas mas cerca que :' + user_planet)\n",
    "print(planets[0:planet_index])\n",
    "\n",
    "print('Aqui estan los planetas mas  lejos que : ' + user_planet)\n",
    "print(planets[planet_index + 1:])"
   ]
  }
 ],
 "metadata": {
  "interpreter": {
   "hash": "64f067fcb6e0fcc74cf66a7a139d6529ceed0a39a97db785908846a2e3e809fc"
  },
  "kernelspec": {
   "display_name": "Python 3.10.2 ('env': venv)",
   "language": "python",
   "name": "python3"
  },
  "language_info": {
   "codemirror_mode": {
    "name": "ipython",
    "version": 3
   },
   "file_extension": ".py",
   "mimetype": "text/x-python",
   "name": "python",
   "nbconvert_exporter": "python",
   "pygments_lexer": "ipython3",
   "version": "3.10.2"
  },
  "orig_nbformat": 4
 },
 "nbformat": 4,
 "nbformat_minor": 2
}
