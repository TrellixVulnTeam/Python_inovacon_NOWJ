{
 "cells": [
  {
   "cell_type": "code",
   "execution_count": 2,
   "metadata": {},
   "outputs": [
    {
     "name": "stdout",
     "output_type": "stream",
     "text": [
      "distancia en Kms: 628949330\n",
      "Distancia en Millas: 1012195830.53952\n"
     ]
    }
   ],
   "source": [
    "tierra=149597870 \n",
    "jupiter=778547200 \n",
    "\n",
    "distance_km = jupiter - tierra\n",
    "print('distancia en Kms: ' +str(distance_km))\n",
    "\n",
    "distance_mi = distance_km * 1.609344\n",
    "print('Distancia en Millas: '+str(distance_mi))"
   ]
  },
  {
   "cell_type": "code",
   "execution_count": 12,
   "metadata": {},
   "outputs": [
    {
     "name": "stdout",
     "output_type": "stream",
     "text": [
      "Distancia en Millas: 31236300.0\n"
     ]
    }
   ],
   "source": [
    "first_planet = input('Introduzca la distancia del sol para el primer planeta en KM')\n",
    "second_planet = input('Introduzca la distancia desde el sol para el segundo planeta en KM')\n",
    "\n",
    "first_planet = int(first_planet)\n",
    "second_planet = int(second_planet)\n",
    "\n",
    "distance_mi = distance_km * 0.621 \n",
    "print('Distancia en Millas: '+str(abs(distance_mi)))\n"
   ]
  }
 ],
 "metadata": {
  "interpreter": {
   "hash": "64f067fcb6e0fcc74cf66a7a139d6529ceed0a39a97db785908846a2e3e809fc"
  },
  "kernelspec": {
   "display_name": "Python 3.10.2 ('env': venv)",
   "language": "python",
   "name": "python3"
  },
  "language_info": {
   "codemirror_mode": {
    "name": "ipython",
    "version": 3
   },
   "file_extension": ".py",
   "mimetype": "text/x-python",
   "name": "python",
   "nbconvert_exporter": "python",
   "pygments_lexer": "ipython3",
   "version": "3.10.2"
  },
  "orig_nbformat": 4
 },
 "nbformat": 4,
 "nbformat_minor": 2
}
